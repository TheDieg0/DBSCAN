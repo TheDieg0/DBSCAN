{
 "cells": [
  {
   "cell_type": "code",
   "execution_count": 1,
   "id": "41d77f3b",
   "metadata": {},
   "outputs": [
    {
     "name": "stdout",
     "output_type": "stream",
     "text": [
      "Collecting psycopg2\n",
      "  Downloading psycopg2-2.9.1-cp38-cp38-win_amd64.whl (1.1 MB)\n",
      "Installing collected packages: psycopg2\n",
      "Successfully installed psycopg2-2.9.1\n",
      "Note: you may need to restart the kernel to use updated packages.\n"
     ]
    }
   ],
   "source": [
    "pip install psycopg2\n"
   ]
  },
  {
   "cell_type": "code",
   "execution_count": 41,
   "id": "5d9d1601",
   "metadata": {},
   "outputs": [],
   "source": [
    "from sqlalchemy import create_engine\n",
    "import psycopg2\n",
    "import pandas as pd\n",
    "import io\n",
    "import json\n",
    "from sklearn.cluster import DBSCAN\n",
    "from matplotlib import pyplot as plt\n",
    "from sklearn.feature_extraction.text import TfidfVectorizer"
   ]
  },
  {
   "cell_type": "code",
   "execution_count": 45,
   "id": "8c169768",
   "metadata": {},
   "outputs": [],
   "source": [
    "conn= psycopg2.connect(database=\"delati\", user=\"modulo4\", password=\"modulo4\", host=\"128.199.1.222\", port=\"5432\")\n",
    "cursor=conn.cursor()\n"
   ]
  },
  {
   "cell_type": "code",
   "execution_count": 14,
   "id": "6b2d6d3f",
   "metadata": {},
   "outputs": [],
   "source": [
    "def load_data():\n",
    "    cursor.execute(\"select distinct o.htitulo_cat, o.htitulo from webscraping w inner join oferta o on (w.id_webscraping=o.id_webscraping) where o.id_estado is null order by 1,2 limit 500;\")\n",
    "    result=cursor.fetchall()\n",
    "    return result"
   ]
  },
  {
   "cell_type": "code",
   "execution_count": 15,
   "id": "b077ce08",
   "metadata": {},
   "outputs": [],
   "source": [
    "def init():\n",
    "    data = load_data()\n",
    "    json_result = json.dumps(data)\n",
    "    return json_result"
   ]
  },
  {
   "cell_type": "code",
   "execution_count": 34,
   "id": "6133e697",
   "metadata": {},
   "outputs": [
    {
     "name": "stdout",
     "output_type": "stream",
     "text": [
      "[[\"ARCHITECT\", \"ARQUITECTO ANDROID\"], [\"ARCHITECT\", \"ARQUITECTO BACKEND\"], [\"ARCHITECT\", \"ARQUITECTO DE SOFTWARE\"], [\"ARCHITECT\", \"CLOUD ARCHITECT\"], [\"ARCHITECT\", \"ENTERPRISE ARCHITECTURE\"], [\"ARCHITECT\", \"MICROSERVICES ARCHITECT\"], [\"ARTIFICIAL INTELLIGENCE\", \"ESPECIALISTA IA\"], [\"BUSINESS INTELLIGENCE\", \"ANALISTA BI\"], [\"BUSINESS INTELLIGENCE\", \"ESPECIALISTA BI\"], [\"CLOUD COMPUTING\", \"ANALISTA CLOUD\"], [\"CLOUD COMPUTING\", \"CLOUD ENGINEER\"], [\"COMMUNICATION & NETWORKING\", \"ADMINISTRADOR REDES Y COMUNICACIONES\"], [\"COMMUNICATION & NETWORKING\", \"ANALISTA REDES Y COMUNICACIONES\"], [\"COMMUNICATION & NETWORKING\", \"ESPECIALISTA REDES Y COMUNICACIONES\"], [\"COMPUTER SCIENCE, SYSTEMS AND SOFTWARE\", \"COMPUTER SCIENCE\"], [\"COMPUTER SCIENCE, SYSTEMS AND SOFTWARE\", \"PRACTICANTE TI\"], [\"COMPUTER SCIENCE, SYSTEMS AND SOFTWARE\", \"SOFTWARE ENGINEER\"], [\"COMPUTER SCIENCE, SYSTEMS AND SOFTWARE\", \"SYSTEM ENGINEER\"], [\"CYBERSECURITY\", \"ANALISTA DE RIESGOS\"], [\"CYBERSECURITY\", \"ANALISTA FORENSE INFORMATICO\"], [\"CYBERSECURITY\", \"ANALISTA SEGURIDAD INFORMATICA\"], [\"CYBERSECURITY\", \"AUDITOR DE SISTEMAS\"], [\"CYBERSECURITY\", \"ESPECIALISTA CIBERSEGURIDAD\"], [\"CYBERSECURITY\", \"SECURITY ENGINEER\"], [\"DATABASE\", \"ADMINISTRADOR BASE DE DATOS\"], [\"DATABASE\", \"ANALISTA BASE DE DATOS\"], [\"DATABASE\", \"ANALISTA BIGDATA\"], [\"DATABASE\", \"ANALISTA DATAWAREHOUSE\"], [\"DATABASE\", \"BIGDATA ENGINEER\"], [\"DATABASE\", \"CLOUD DATA ENGINEER\"], [\"DATABASE\", \"COORDINADOR BASE DE DATOS\"], [\"DATABASE\", \"DATA ARCHITECT\"], [\"DATABASE\", \"DATA ENGINEER\"], [\"DATABASE\", \"DATA SCIENTIST\"], [\"DATABASE\", \"DATAMINING EXPERT\"], [\"DATABASE\", \"SUPERVISOR BASE DE DATOS SIG\"], [\"DEVELOPER\", \".NET DEVELOPER\"], [\"DEVELOPER\", \"ANALISTA PROGRAMADOR\"], [\"DEVELOPER\", \"ANALISTA PROGRAMADOR BI\"], [\"DEVELOPER\", \"ANALISTA PROGRAMADOR POWER BUILDER\"], [\"DEVELOPER\", \"ANALISTA PROGRAMADOR WEB\"], [\"DEVELOPER\", \"ANDROID DEVELOPER\"], [\"DEVELOPER\", \"ANGULAR DEVELOPER\"], [\"DEVELOPER\", \"BACKEND AWS DEVELOPER\"], [\"DEVELOPER\", \"BACKEND DEVELOPER\"], [\"DEVELOPER\", \"BACKEND JAVA DEVELOPER\"], [\"DEVELOPER\", \"BACKEND MOBILE DEVELOPER\"], [\"DEVELOPER\", \"BACKEND NODE.JS\"], [\"DEVELOPER\", \"BACKEND PHP\"], [\"DEVELOPER\", \"BACKEND PYTHON\"], [\"DEVELOPER\", \"BI DEVELOPER\"], [\"DEVELOPER\", \"BIGDATA DEVELOPER\"], [\"DEVELOPER\", \"BLOCKCHAIN DEVELOPER\"], [\"DEVELOPER\", \"BUSINESS DEVELOPER\"], [\"DEVELOPER\", \"C/C++ DEVELOPER\"], [\"DEVELOPER\", \"CHATBOT DEVELOPER\"], [\"DEVELOPER\", \"CLOUD DEVELOPER\"], [\"DEVELOPER\", \"CMS DEVELOPER\"], [\"DEVELOPER\", \"COBOL DEVELOPER\"], [\"DEVELOPER\", \"DATA ENGINEER & DEVELOPER\"], [\"DEVELOPER\", \"DEVELOPER\"], [\"DEVELOPER\", \"DEVOPS DEVELOPER\"], [\"DEVELOPER\", \"EMBEDDED DEVELOPER\"], [\"DEVELOPER\", \"FLUTTER DEVELOPER\"], [\"DEVELOPER\", \"FRONTEND ANDROID\"], [\"DEVELOPER\", \"FRONTEND DEVELOPER\"], [\"DEVELOPER\", \"FULLSTACK DEVELOPER\"], [\"DEVELOPER\", \"GAMES DEVELOPER\"], [\"DEVELOPER\", \"GENEXUS DEVELOPER\"], [\"DEVELOPER\", \"IOS DEVELOPER\"], [\"DEVELOPER\", \"IOT DEVELOPER\"], [\"DEVELOPER\", \"JAVA DEVELOPER\"], [\"DEVELOPER\", \"JAVASCRIPT DEVELOPER\"], [\"DEVELOPER\", \"MACHINE LEARNING DEVELOPER\"], [\"DEVELOPER\", \"MICROSERVICES DEVELOPER\"], [\"DEVELOPER\", \"MOBILE DEVELOPER\"], [\"DEVELOPER\", \"NODE.JS DEVELOPER\"], [\"DEVELOPER\", \"PERL DEVELOPER\"], [\"DEVELOPER\", \"PHP DEVELOPER\"], [\"DEVELOPER\", \"PYTHON DEVELOPER\"], [\"DEVELOPER\", \"QA DEVELOPER\"], [\"DEVELOPER\", \"REACT DEVELOPER\"], [\"DEVELOPER\", \"RPA DEVELOPER\"], [\"DEVELOPER\", \"RUBY DEVELOPER\"], [\"DEVELOPER\", \"SCALA DEVELOPER\"], [\"DEVELOPER\", \"SQL DEVELOPER\"], [\"DEVELOPER\", \"WEB DEVELOPER\"], [\"DEVELOPER\", \"WEB SERVICES DEVELOPER\"], [\"DEVELOPER\", \"WEBSCRAPING DEVELOPER\"], [\"DIGITAL BUSINESS PROCESS\", \"ANALISTA BPM\"], [\"DIGITAL BUSINESS PROCESS\", \"ANALISTA CRM\"], [\"DIGITAL BUSINESS PROCESS\", \"ANALISTA DE PROCESOS\"], [\"DIGITAL BUSINESS PROCESS\", \"ANALISTA FUNCIONAL\"], [\"DIGITAL BUSINESS PROCESS\", \"ESPECIALISTA ECM\"], [\"DIGITAL BUSINESS PROCESS\", \"ESPECIALISTA ECOMMERCE\"], [\"DIGITAL BUSINESS PROCESS\", \"ESPECIALISTA ERP\"], [\"DIGITAL BUSINESS PROCESS\", \"ESPECIALISTA LCMS\"], [\"DIGITAL BUSINESS PROCESS\", \"ESPECIALISTA TRANSFORMACI\\u00d3N DIGITAL\"], [\"INFORMATION AND KNOWLEDGE MANAGEMENT\", \"ANALISTA GESTION DE INFORMACION\"], [\"INFORMATION AND KNOWLEDGE MANAGEMENT\", \"ESPECIALISTA GESTION DE INFORMACION\"], [\"IT SERVICES\", \"ANALISTA DE INTEGRACION\"], [\"IT SERVICES\", \"ANALISTA DE SERVICIOS TI\"], [\"IT SERVICES\", \"SALES TI ENGINEER\"], [\"MANAGER\", \"BI MANAGER\"], [\"MANAGER\", \"CMS MANAGER\"], [\"MANAGER\", \"COMMUNITY MANAGER\"], [\"MANAGER\", \"DEVELOPER MANAGER\"], [\"MANAGER\", \"DEVOPS ENGINEER\"], [\"MANAGER\", \"DIRECTOR CLOUD PLATFORM\"], [\"MANAGER\", \"GERENTE DE TI\"], [\"MANAGER\", \"GESTOR DE PROYECTOS\"], [\"MANAGER\", \"JEFE AUTOMATIZACION RPA\"], [\"MANAGER\", \"JEFE DE SERVICIOS TI\"], [\"MANAGER\", \"JEFE INFRAESTRUCTURA TI\"], [\"MANAGER\", \"JEFE SOPORTE TECNICO\"], [\"MANAGER\", \"PROCESS MANAGER\"], [\"MANAGER\", \"PRODUCT MANAGER\"], [\"MANAGER\", \"QA MANAGER\"], [\"QUALITY SOFTWARE\", \"ANALISTA QA\"], [\"SERVERS-CONTAINERS-VIRTUALIZATION\", \"ANALISTA INFRAESTRUCTURA TI\"], [\"SERVERS-CONTAINERS-VIRTUALIZATION\", \"SYSTEMS ADMINISTRATOR\"], [\"SERVICE DESK\", \"ANALISTA SERVICE DESK\"], [\"SERVICE DESK\", \"COORDINADOR SERVICE DESK\"], [\"SERVICE DESK\", \"GESTOR SERVICE DESK\"], [\"SERVICE DESK\", \"SOPORTE TECNICO\"], [\"SOFTWARE DESIGN\", \"SOFTWARE DESIGN\"], [\"SYSTEM ANALYSIS\", \"ANALISTA DE SISTEMAS\"], [\"SYSTEM ANALYSIS\", \"ANALISTA TI\"], [\"SYSTEM ANALYSIS\", \"ESPECIALISTA TI\"], [\"TRAINING AND RESEARCH\", \"ANALISTA DE CAPACITACION\"], [\"TRAINING AND RESEARCH\", \"COORDINADOR ACADEMICO\"], [\"TRAINING AND RESEARCH\", \"RESEARCH EXPERT\"], [\"TRAINING AND RESEARCH\", \"SEARCH ENGINE EXPERT\"]]\n"
     ]
    }
   ],
   "source": [
    "data = init()\n",
    "print(data)"
   ]
  },
  {
   "cell_type": "code",
   "execution_count": 42,
   "id": "49a8024e",
   "metadata": {},
   "outputs": [],
   "source": [
    "total_data = load_data()\n",
    "data = []\n",
    "for selected_tuple in total_data:\n",
    "    data.append(' '.join(selected_tuple))\n",
    "#n_clusters=body[\"n_clusters\"]\n",
    "#init= body['init']\n",
    "#max_iter= body['max_iter']\n",
    "        # end requests\n",
    "vectorizer = TfidfVectorizer(min_df = 0.01, ngram_range = (2,2))\n",
    "vec = vectorizer.fit(data)   # train vec using list1\n",
    "vectorized = vec.transform(data)   # transform list1 using vec"
   ]
  },
  {
   "cell_type": "code",
   "execution_count": 44,
   "id": "38e7a609",
   "metadata": {},
   "outputs": [
    {
     "ename": "TypeError",
     "evalue": "list indices must be integers or slices, not list",
     "output_type": "error",
     "traceback": [
      "\u001b[1;31m---------------------------------------------------------------------------\u001b[0m",
      "\u001b[1;31mTypeError\u001b[0m                                 Traceback (most recent call last)",
      "\u001b[1;32m<ipython-input-44-70304a28dc14>\u001b[0m in \u001b[0;36m<module>\u001b[1;34m\u001b[0m\n\u001b[1;32m----> 1\u001b[1;33m \u001b[0mdbscan_data\u001b[0m \u001b[1;33m=\u001b[0m \u001b[0mdata\u001b[0m\u001b[1;33m[\u001b[0m\u001b[1;33m[\u001b[0m\u001b[1;34m'htitulo'\u001b[0m\u001b[1;33m,\u001b[0m \u001b[1;34m'htitulo_cat'\u001b[0m\u001b[1;33m]\u001b[0m\u001b[1;33m]\u001b[0m\u001b[1;33m\u001b[0m\u001b[1;33m\u001b[0m\u001b[0m\n\u001b[0m\u001b[0;32m      2\u001b[0m \u001b[0mdbscan_data\u001b[0m \u001b[1;33m=\u001b[0m \u001b[0mdbscan_data\u001b[0m\u001b[1;33m.\u001b[0m\u001b[0mvalues\u001b[0m\u001b[1;33m.\u001b[0m\u001b[0mastype\u001b[0m\u001b[1;33m(\u001b[0m\u001b[1;34m'string'\u001b[0m\u001b[1;33m,\u001b[0m \u001b[0mcopy\u001b[0m\u001b[1;33m=\u001b[0m\u001b[1;32mFalse\u001b[0m\u001b[1;33m)\u001b[0m\u001b[1;33m\u001b[0m\u001b[1;33m\u001b[0m\u001b[0m\n\u001b[0;32m      3\u001b[0m \u001b[0mdbscan_data\u001b[0m\u001b[1;33m\u001b[0m\u001b[1;33m\u001b[0m\u001b[0m\n",
      "\u001b[1;31mTypeError\u001b[0m: list indices must be integers or slices, not list"
     ]
    }
   ],
   "source": [
    "dbscan_data = data[['htitulo', 'htitulo_cat']]\n",
    "dbscan_data = dbscan_data.values.astype('string', copy=False)\n",
    "dbscan_data"
   ]
  },
  {
   "cell_type": "code",
   "execution_count": null,
   "id": "b03fd81c",
   "metadata": {},
   "outputs": [],
   "source": []
  }
 ],
 "metadata": {
  "kernelspec": {
   "display_name": "Python 3",
   "language": "python",
   "name": "python3"
  },
  "language_info": {
   "codemirror_mode": {
    "name": "ipython",
    "version": 3
   },
   "file_extension": ".py",
   "mimetype": "text/x-python",
   "name": "python",
   "nbconvert_exporter": "python",
   "pygments_lexer": "ipython3",
   "version": "3.8.8"
  }
 },
 "nbformat": 4,
 "nbformat_minor": 5
}
